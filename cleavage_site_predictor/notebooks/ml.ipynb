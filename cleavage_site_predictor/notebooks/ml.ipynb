{
 "cells": [
  {
   "cell_type": "markdown",
   "id": "1ca1f048",
   "metadata": {},
   "source": [
    "# Import & Load"
   ]
  },
  {
   "cell_type": "code",
   "execution_count": null,
   "id": "9dad6aa4",
   "metadata": {},
   "outputs": [],
   "source": [
    "# For Local\n",
    "%load_ext autoreload\n",
    "%autoreload 2\n",
    "%reload_ext autoreload\n",
    "%matplotlib inline\n",
    "\n",
    "import aaanalysis as aa\n",
    "import pandas as pd\n",
    "import numpy as np\n",
    "import matplotlib.pyplot as plt\n",
    "import seaborn as sns\n",
    "import os\n",
    "\n",
    "os.chdir('/Users/lynnshi/Library/CloudStorage/GoogleDrive-shiruosang@gmail.com/Meine Ablage/Thesis')\n",
    "current_dir = os.getcwd()\n",
    "print(current_dir)"
   ]
  },
  {
   "cell_type": "code",
   "execution_count": null,
   "id": "39dea94e",
   "metadata": {},
   "outputs": [],
   "source": [
    "# substrate dataset\n",
    "df_sub = pd.read_excel('data/ADAM_substrates.xlsx',sheet_name='ADAM17_sub')\n",
    "df_nonsub = pd.read_excel('data/ADAM_substrates.xlsx',sheet_name='ADAM17_nonsub')\n",
    "# reference dataset\n",
    "df_ref = pd.read_excel('data/reference_set/SwissProt_human_type_I_TMP.xlsx')\n",
    "\n",
    "# remove redundant term from raw data\n",
    "from data_extractor.helper_functions import check_duplicate_entries\n",
    "check_duplicate_entries(df_ref, 'Entry') # df_sub, 'final_entry' ; df_nonsub, 'final_entry'\n",
    "#df_sub = df_sub.drop_duplicates(subset=['entry'])\n",
    "\n",
    "from data.utils.dataframe_process_pipeline import *\n",
    "# Here the df_type_I_ref_filtered is the ref dataset that is not in df_type_I_sub or df_type_I_nonsub\n",
    "df_type_I_sub, df_type_I_nonsub, df_type_I_ref_filtered = process_type_I_TMP_ADAM17(df_sub, df_nonsub, df_ref)\n",
    "\n",
    "df_sub_cs = df_type_I_sub[df_type_I_sub['final_cleavage_site'].apply(len) > 0].reset_index(drop=True).loc[:,['final_entry','final_cleavage_site','extracellular','transmembrane','intracellular']]\n",
    "df_sub_no_cs = df_type_I_sub[df_type_I_sub['final_cleavage_site'].apply(len) == 0].reset_index(drop=True).loc[:,['final_entry','final_cleavage_site','extracellular','transmembrane','intracellular']]\n",
    "df_nonsub = df_type_I_nonsub.loc[:,['final_entry','extracellular','transmembrane','intracellular']]"
   ]
  },
  {
   "cell_type": "code",
   "execution_count": null,
   "id": "fcdafc7c",
   "metadata": {},
   "outputs": [],
   "source": [
    "from cleavage_site_predictor.window_slicer import WindowSlicer\n",
    "\n",
    "slicer = WindowSlicer(window_sizes=[24])\n",
    "\n",
    "positive_windows = slicer.generate_windows(df_sub_cs, window_type=\"positive\", \n",
    "                                           enable_distance_filter=True, max_sequence_distance=150, max_spatial_distance=60.0,\n",
    "                                           cd_hit_clustering=False, threshold=0.4, \n",
    "                                           show_topology=True,\n",
    "                                           uniprot_id_col='final_entry',\n",
    "                                           cleavage_sites_col='final_cleavage_site',\n",
    "                                           extracellular_regions_col='extracellular',\n",
    "                                           transmembrane_regions_col='transmembrane',\n",
    "                                           intracellular_regions_col='intracellular')\n",
    "negative_windows = slicer.generate_windows(df_sub_cs, window_type=\"negative\", \n",
    "                                           enable_distance_filter=True, max_sequence_distance=150, max_spatial_distance=60.0,\n",
    "                                           cd_hit_clustering=True, threshold=0.4, \n",
    "                                           show_topology=True,\n",
    "                                           min_distance_from_cleavage=0,\n",
    "                                           uniprot_id_col='final_entry',\n",
    "                                           cleavage_sites_col='final_cleavage_site',\n",
    "                                           extracellular_regions_col='extracellular',\n",
    "                                           transmembrane_regions_col='transmembrane',\n",
    "                                           intracellular_regions_col='intracellular')\n",
    "print(positive_windows.shape)\n",
    "print(negative_windows.shape)\n",
    "\n",
    "cs_windows = pd.concat([positive_windows, negative_windows], ignore_index=True)\n",
    "cs_windows = cs_windows[~cs_windows['sequence'].str.contains('X')].reset_index(drop=True)"
   ]
  },
  {
   "cell_type": "code",
   "execution_count": null,
   "id": "1f788ff9",
   "metadata": {},
   "outputs": [],
   "source": [
    "import pandas as pd\n",
    "\n",
    "def df_to_fasta(df: pd.DataFrame, out_path: str | None = None) -> str:\n",
    "    lines = []\n",
    "    for _, row in df.iterrows():\n",
    "        label = int(row[\"known_cleavage_site\"]) if pd.notna(row[\"known_cleavage_site\"]) else \"\"\n",
    "        header = f\">{row['entry']}_{int(row['center_position'])} {label}\".rstrip()\n",
    "        seq = str(row[\"sequence\"]).replace(\" \", \"\").strip()\n",
    "        lines.append(header)\n",
    "        lines.append(seq)\n",
    "    fasta_str = \"\\n\".join(lines)\n",
    "    if out_path:\n",
    "        with open(out_path, \"w\") as f:\n",
    "            f.write(fasta_str + \"\\n\")\n",
    "    return fasta_str\n",
    "\n",
    "\n",
    "cs_windows_24 = cs_windows[cs_windows['sequence'].str.len() == 24].reset_index(drop=True)\n",
    "df_to_fasta(cs_windows_24, \"0_output.fasta\")                  "
   ]
  },
  {
   "cell_type": "markdown",
   "id": "45e11c25",
   "metadata": {},
   "source": [
    "# Accessibility"
   ]
  },
  {
   "cell_type": "code",
   "execution_count": null,
   "id": "eec79f27",
   "metadata": {},
   "outputs": [],
   "source": [
    "from cleavage_site_predictor.structural_analyzer.structural_profiler import DSSPProfiler\n",
    "\n",
    "dssp_profiler = DSSPProfiler()\n",
    "dssp_profiler.profile_dssp(cs_windows)\n",
    "\n",
    "dssp_windows = dssp_profiler.profile_dssp(windows_df=cs_windows,\n",
    "                                          show_original_data=True,\n",
    "                                          include_rsa_mean=True)\n",
    "\n",
    "dssp_profiler.plot_rsa_distribution(results=dssp_windows,\n",
    "                                    labels=dssp_windows['known_cleavage_site'].values,\n",
    "                                    title=\"Relative Solvent Accessibility (RSA) Distribution of CW vs NonCWs \\n\\nDistance: 0 aa between CW and nonCW | window size: 24 aa\",\n",
    "                                    rsa_col='rsa_mean',\n",
    "                                    figsize=(12, 8))"
   ]
  },
  {
   "cell_type": "markdown",
   "id": "71d527c7",
   "metadata": {},
   "source": [
    "ProsperousPlus\n"
   ]
  },
  {
   "cell_type": "markdown",
   "id": "c3ccedf8",
   "metadata": {},
   "source": [
    "# CPP Train"
   ]
  },
  {
   "cell_type": "code",
   "execution_count": null,
   "id": "3638c73a",
   "metadata": {},
   "outputs": [],
   "source": [
    "from cleavage_site_predictor.ml_construction.cpp_trainer import CPPTrainer\n",
    "\n",
    "cpp_trainer = CPPTrainer(random_state=42, verbose=True)\n",
    "cpp_results = cpp_trainer.train_and_evaluate(cs_windows)"
   ]
  },
  {
   "cell_type": "code",
   "execution_count": null,
   "id": "bc49695c",
   "metadata": {},
   "outputs": [],
   "source": [
    "cpp_trainer.create_heatmap(\n",
    "      metric='f1_05_mean',\n",
    "      percentage=False,\n",
    "      figsize=(16, 10),\n",
    "      title='Evaluation CPP Features (Mean of F1 Score from 5 cross-validations) \\nDistance: 0 aa between CW and nonCW\\nLogodds Average + Soft voting (0.5 threshold)'\n",
    "  )\n",
    "cpp_trainer.create_heatmap(\n",
    "      metric='balanced_accuracy_05_mean',\n",
    "      percentage=False,\n",
    "      figsize=(16, 10),\n",
    "      title='Evaluation CPP Features (Mean of Balanced Accuracy Score from 5 cross-validations) \\nDistance: 0 aa between CW and nonCW\\nLogodds Average + Soft voting (0.5 threshold)'\n",
    "  )\n",
    "cpp_results_df = cpp_trainer.get_results_dataframe()\n",
    "cpp_results_df.to_csv(\"0_cpp_results.csv\", index=False)"
   ]
  },
  {
   "cell_type": "markdown",
   "id": "1e02ec82",
   "metadata": {},
   "source": [
    "# Train"
   ]
  },
  {
   "cell_type": "code",
   "execution_count": null,
   "id": "4dfd6bd4",
   "metadata": {},
   "outputs": [],
   "source": [
    "from cleavage_site_predictor.ml_construction.trainer import EnsembleTrainer\n",
    "\n",
    "trainer = EnsembleTrainer()\n",
    "results = trainer.run(cs_windows, \n",
    "                      model_type='SVM', \n",
    "                      use_group_based_split=True)\n",
    "\n",
    "final_params = trainer.extract_final_results(results)"
   ]
  },
  {
   "cell_type": "code",
   "execution_count": null,
   "id": "a9fbebba",
   "metadata": {},
   "outputs": [],
   "source": [
    "trainer.plot_test_results(results,\n",
    "                          title = 'Test Performance: Validation-Optimized vs Baselines\\nWindow size: 28 aa | Distance: 0 aa between CW and nonCW | Full features \\n Logodds Average + Soft Vote (Decision threshold: 0.5)',\n",
    "                          show_only_0_5_threshold=True)"
   ]
  },
  {
   "cell_type": "markdown",
   "id": "e6ddb7bb",
   "metadata": {},
   "source": [
    "# Ablation Study"
   ]
  },
  {
   "cell_type": "code",
   "execution_count": null,
   "id": "717be05f",
   "metadata": {},
   "outputs": [],
   "source": [
    "cs_windows_24 = cs_windows[cs_windows['sequence'].str.len() == 24].reset_index(drop=True)\n",
    "\n",
    "from cleavage_site_predictor.ml_construction.feature_ablation import FeatureAblationStudy\n",
    "\n",
    "ablation_study = FeatureAblationStudy(random_state=42, verbose=True)\n",
    "progressive_results = ablation_study.run_ablation_study(\n",
    "        data=cs_windows_24,\n",
    "        model_type='SVM',\n",
    "        use_group_based_split=True, \n",
    "        outer_folds=5,  \n",
    "        study_type='progressive'\n",
    "    )"
   ]
  },
  {
   "cell_type": "code",
   "execution_count": null,
   "id": "8e4df006",
   "metadata": {},
   "outputs": [],
   "source": [
    "ablation_study.plot_progressive_ablation_results(progressive_results, \n",
    "title = 'Progressive Feature Ablation: Impact of Removing Each Feature Group\\n Baseline (All Features) vs. Remove One Group at a Time \\nWindow size: 24 aa | Distance: 0 aa between CW and nonCW\\n Logodds Average + Soft Vote (Use 0.5 default threshold)')\n",
    "\n",
    "ablation_study.extract_results_to_csv(progressive_results, \"0_ablation_results.csv\")"
   ]
  },
  {
   "cell_type": "markdown",
   "id": "bc9c7c55",
   "metadata": {},
   "source": [
    "# Substrates prediction"
   ]
  },
  {
   "cell_type": "code",
   "execution_count": null,
   "id": "f6fe3774",
   "metadata": {},
   "outputs": [],
   "source": [
    "slicer = WindowSlicer(window_sizes=[24])\n",
    "sub_windows = slicer.generate_query_windows(df_sub_no_cs,\n",
    "                              uniprot_id_col = 'final_entry',\n",
    "                              extracellular_regions_col = 'extracellular',\n",
    "                              transmembrane_regions_col = 'transmembrane',\n",
    "                              intracellular_regions_col = 'intracellular',\n",
    "                              enable_distance_filter = False, #4480\n",
    "                              max_sequence_distance = 150,\n",
    "                              max_spatial_distance = 60.0,\n",
    "                              structure_source = \"alphafold\",\n",
    "                              padding_char = 'X',\n",
    "                              show_topology = True,\n",
    "                              step_size = 1)\n",
    "\n",
    "sub_windows = sub_windows[\n",
    "    sub_windows['extracellular'].apply(lambda x: len(x) > 0) |\n",
    "    (\n",
    "        sub_windows['transmembrane'].apply(lambda x: len(x) > 0) &\n",
    "        sub_windows['intracellular'].apply(lambda x: len(x) > 0)\n",
    "    )\n",
    "].reset_index(drop=True)\n",
    "len(sub_windows)\n",
    "\n",
    "sub_windows = sub_windows[~sub_windows['sequence'].str.contains('X')].reset_index(drop=True)\n",
    "\n",
    "\n",
    "nonsub_windows = slicer.generate_query_windows(df_nonsub,\n",
    "                              uniprot_id_col = 'final_entry',\n",
    "                              extracellular_regions_col = 'extracellular',\n",
    "                              transmembrane_regions_col = 'transmembrane',\n",
    "                              intracellular_regions_col = 'intracellular',\n",
    "                              enable_distance_filter = False, # 780\n",
    "                              max_sequence_distance = 150,\n",
    "                              max_spatial_distance = 60.0,\n",
    "                              structure_source = \"alphafold\",\n",
    "                              padding_char = 'X',\n",
    "                              show_topology = True,\n",
    "                              step_size = 1)\n",
    "nonsub_windows = nonsub_windows[~nonsub_windows['sequence'].str.contains('X')].reset_index(drop=True)"
   ]
  },
  {
   "cell_type": "code",
   "execution_count": null,
   "id": "2008e79f",
   "metadata": {},
   "outputs": [],
   "source": [
    "from cleavage_site_predictor.ml_construction.substrate_predictor import SubstratePredictor\n",
    "predictor = SubstratePredictor(random_state=42,\n",
    "                               filter_site_by_rsa=True,\n",
    "                               rsa_min=0.4,\n",
    "                               rsa_max=1.0)\n",
    "\n",
    "aggregation_strategies = ['top_k_pooling', 'poisson_binomial']\n",
    "predictor.fit_with_trainer_results(training_data = cs_windows, \n",
    "                                    trainer_results = final_params, \n",
    "                                    model_type = 'SVM')\n",
    "\n",
    "nosub_predictions = predictor.predict_substrates(\n",
    "            query_data=nonsub_windows,\n",
    "            aggregation_strategies=aggregation_strategies\n",
    "        )\n",
    "sub_predictions = predictor.predict_substrates(\n",
    "            query_data=sub_windows,\n",
    "            aggregation_strategies=aggregation_strategies\n",
    "        )"
   ]
  },
  {
   "cell_type": "code",
   "execution_count": null,
   "id": "9deba81b",
   "metadata": {},
   "outputs": [],
   "source": [
    "calibration_results = predictor.evaluate_with_calibration(\n",
    "    substrate_predictions=sub_predictions,\n",
    "    nonsubstrate_predictions=nosub_predictions,\n",
    "    cv_folds=5,\n",
    "    random_state=42,\n",
    "    bal_acc_weight=1,\n",
    "    f1_weight=0,\n",
    "    performance_title=\"Substrate Prediction: Aggregation Methods Comparison\\n\\nWindow size: 24 aa | Distance: 0 aa between CW and nonCW \\nNo weighted matrices (Full Features except weighted matrices) \\n RSA filter: 0.4-1.0 | 5 CV for threshold calibration\",\n",
    "    confusion_title=\"Confusion Matrices for Each Method | Calibrated Threshold\\n\\nWindow size: 24 aa \\nNo weighted matrices (Full Features except weighted matrices) \\nDistance: 0 aa between CW and nonCW | 5 CV for threshold calibration \"\n",
    "  )"
   ]
  },
  {
   "cell_type": "code",
   "execution_count": null,
   "id": "6d433c04",
   "metadata": {},
   "outputs": [],
   "source": [
    "calibration_results"
   ]
  }
 ],
 "metadata": {
  "kernelspec": {
   "display_name": "csp_esm",
   "language": "python",
   "name": "python3"
  },
  "language_info": {
   "codemirror_mode": {
    "name": "ipython",
    "version": 3
   },
   "file_extension": ".py",
   "mimetype": "text/x-python",
   "name": "python",
   "nbconvert_exporter": "python",
   "pygments_lexer": "ipython3",
   "version": "3.11.8"
  }
 },
 "nbformat": 4,
 "nbformat_minor": 5
}
